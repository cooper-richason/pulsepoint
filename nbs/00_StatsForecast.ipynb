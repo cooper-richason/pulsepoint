{
 "cells": [
  {
   "cell_type": "markdown",
   "metadata": {},
   "source": [
    "# StatsForecast\n",
    "\n",
    "> Fill in a module description here"
   ]
  },
  {
   "cell_type": "code",
   "execution_count": null,
   "metadata": {},
   "outputs": [],
   "source": [
    "#| default_exp StatsForecast"
   ]
  },
  {
   "cell_type": "code",
   "execution_count": null,
   "metadata": {},
   "outputs": [],
   "source": [
    "#| hide\n",
    "from nbdev.showdoc import *\n",
    "\n",
    "import warnings\n",
    "warnings.simplefilter(\"ignore\", category=FutureWarning)"
   ]
  },
  {
   "cell_type": "markdown",
   "metadata": {},
   "source": [
    "## Run StatsForecast Models"
   ]
  },
  {
   "cell_type": "code",
   "execution_count": null,
   "metadata": {},
   "outputs": [],
   "source": [
    "#| export\n",
    "from pulsepoint.core import *\n",
    "from pulsepoint.tests import _train_SF_model, _evaluate_results, _split_dataset\n",
    "from pulsepoint.utils import _process_data\n",
    "from typing import Callable\n",
    "import pandas as pd"
   ]
  },
  {
   "cell_type": "code",
   "execution_count": null,
   "metadata": {},
   "outputs": [],
   "source": [
    "#| export\n",
    "def SF_test(path: str,       # Path of feather file\n",
    "            splt_date:str,      # Date to split data\n",
    "            model:list,              # Models to use\n",
    "            dimension:str = None,       # dimension of test\n",
    "            date_col:str = 'ds',        # Independant Variable\n",
    "            metric_col: str = 'y',      # Dependend Variable\n",
    "            filters: list[dict] = None, \n",
    "            crnt_frmt = None,       # Format of Date Column\n",
    "            hrz: int = 7,           # Test Horizon\n",
    "            freq: str = 'D',        # Data frequency\n",
    "            cross_validate: bool= False,\n",
    "            cv_periods: int = 0,\n",
    "            anom_level: int = 80,\n",
    "            fruitful: bool = False,\n",
    "            publish_fn: Callable = None,\n",
    "            **kwargs):\n",
    "    \"\"\" Run Model(s) from StatsForecast \"\"\"\n",
    "\n",
    "    levels = [70,80,90,95,99]\n",
    "\n",
    "    pcd_df = _process_data(path= path, dimension = dimension,date_col= date_col, metric_col= metric_col, filters= filters)\n",
    "    \n",
    "    train_df, test_df = _split_dataset(df= pcd_df,splt_date= splt_date, crnt_frmt=crnt_frmt)\n",
    "    \n",
    "    fcst_df, cv_df, insample_df = _train_SF_model(df= train_df, model= model, hrz= hrz, freq= freq, levels= levels, cross_validate= cross_validate, cv_periods= cv_periods)\n",
    "    \n",
    "    combined_data, anoms_df, = _evaluate_results(dataset= pcd_df, fcst= fcst_df, mdl_name= mdl_name,anom_level= anom_level, levels= levels)\n",
    "    \n",
    "    if publish_fn: sent_data = publish_fn()\n",
    "    \n",
    "    if fruitful: return combined_data, anoms_df"
   ]
  },
  {
   "cell_type": "code",
   "execution_count": null,
   "metadata": {},
   "outputs": [],
   "source": [
    "#| hide\n",
    "import nbdev; nbdev.nbdev_export()"
   ]
  }
 ],
 "metadata": {
  "kernelspec": {
   "display_name": "python3",
   "language": "python",
   "name": "python3"
  }
 },
 "nbformat": 4,
 "nbformat_minor": 4
}
