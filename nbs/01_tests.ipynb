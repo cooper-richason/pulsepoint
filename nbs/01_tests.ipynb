{
 "cells": [
  {
   "cell_type": "markdown",
   "metadata": {},
   "source": [
    "# core\n",
    "\n",
    "> Fill in a module description here"
   ]
  },
  {
   "cell_type": "code",
   "execution_count": null,
   "metadata": {},
   "outputs": [],
   "source": [
    "#| default_exp tests"
   ]
  },
  {
   "cell_type": "code",
   "execution_count": null,
   "metadata": {},
   "outputs": [],
   "source": [
    "#| hide\n",
    "from nbdev.showdoc import *"
   ]
  },
  {
   "cell_type": "code",
   "execution_count": null,
   "metadata": {},
   "outputs": [],
   "source": [
    "#| export\n",
    "from pulsepoint.core import *\n",
    "from pulsepoint.utils import *\n",
    "import pandas as pd\n",
    "from statsforecast import StatsForecast\n",
    "from tqdm.autonotebook import tqdm\n"
   ]
  },
  {
   "cell_type": "markdown",
   "metadata": {},
   "source": [
    "### Splitting Data:"
   ]
  },
  {
   "cell_type": "code",
   "execution_count": null,
   "metadata": {},
   "outputs": [],
   "source": [
    "#| export\n",
    "\n",
    "def _split_dataset(df: pd.DataFrame, splt_date: str, crnt_frmt= None):\n",
    "    \"\"\"Split dataframe into test and training at splt_date\n",
    "\n",
    "    If format of current column is not YYYY-mm-dd, like with GA4 api data, please specify \n",
    "    the current format (crnt_frmt)\n",
    "    \"\"\"\n",
    "    if crnt_frmt: df['ds'] = pd.to_datetime(df['ds'],format= crnt_frmt)\n",
    "    else:         df['ds'] = pd.to_datetime(df['ds'])\n",
    "\n",
    "    splt_date = pd.to_datetime(splt_date)\n",
    "\n",
    "    test_df = df[ df['ds']>= splt_date]\n",
    "    train_df = df[ df['ds'] < splt_date]\n",
    "\n",
    "    return train_df, test_df"
   ]
  },
  {
   "cell_type": "markdown",
   "metadata": {},
   "source": [
    "### Training a Model"
   ]
  },
  {
   "cell_type": "code",
   "execution_count": null,
   "metadata": {},
   "outputs": [],
   "source": [
    "#| export\n",
    "def _train_SF_model(df: pd.DataFrame,\n",
    "                model: list,\n",
    "                hrz: int = 7,\n",
    "                freq: str = 'D',\n",
    "                levels: list = [70,80,90,95,99],\n",
    "                cross_validate: bool= False,\n",
    "                cv_periods: int = 0,\n",
    "                insample:bool = False):\n",
    "    \"\"\"Train Model\"\"\"\n",
    "\n",
    "    if not isinstance(model,list): model = [model]\n",
    "\n",
    "    sf = StatsForecast(\n",
    "        df = df, \n",
    "        models = model, \n",
    "        freq = freq, \n",
    "        n_jobs = -1\n",
    "        )\n",
    "\n",
    "    fcst = sf.forecast(h = hrz, level = levels, fitted = True)\n",
    "    fcst = fcst.reset_index()\n",
    "    insample_forecasts = sf.forecast_fitted_values().reset_index()\n",
    "    \n",
    "    if cross_validate:\n",
    "        crossvalidation_df = sf.cross_validation(\n",
    "            df = df,\n",
    "            h = hrz,\n",
    "            step_size = hrz,\n",
    "            n_windows = cv_periods\n",
    "        )\n",
    "        return fcst, cross_validate, None\n",
    "    elif insample:\n",
    "        insample_forecasts = sf.forecast_fitted_values().reset_index()\n",
    "        return fcst, None, insample_forecasts\n",
    "    else:\n",
    "        return fcst, None, None"
   ]
  },
  {
   "cell_type": "markdown",
   "metadata": {},
   "source": [
    "## Evaulating Results:"
   ]
  },
  {
   "cell_type": "code",
   "execution_count": null,
   "metadata": {},
   "outputs": [],
   "source": [
    "#| export\n",
    "def _evaluate_results(dataset: pd.DataFrame, fcst: pd.DataFrame,mdl_name = 'MSTL', anom_level: int = 80, levels: list = [70,80,90,95,99]):\n",
    "    \"\"\" Evaluate Results to find anamalies\"\"\"\n",
    "\n",
    "    fcst_cols = fcst.columns.difference(['unique_id','ds'])\n",
    "    fcst[fcst_cols] = fcst[fcst_cols].astype(float).round(2)\n",
    "\n",
    "    cmbd_df = pd.merge(dataset[dataset['ds'].isin(set(fcst['ds']))][['ds','y','unique_id']], fcst, on=['ds','unique_id'], how='left')\n",
    "    cmbd_df = cmbd_df.sort_values(by='ds', ascending=True)\n",
    "\n",
    "    cmbd_df['diff'] = cmbd_df['y'] - cmbd_df[mdl_name]\n",
    "    cmbd_df['pct_diff'] = round(cmbd_df['diff'] / cmbd_df[mdl_name],3) * 100\n",
    "    cmbd_df['anom_conf'] = 0\n",
    "\n",
    "    # Iterate through each level of confidence to update 'anomaly_confidence'\n",
    "    for level in levels:\n",
    "        column_name_high = f'{mdl_name}-hi-{level}'\n",
    "        column_name_low = f'{mdl_name}-lo-{level}'\n",
    "    \n",
    "        condition = (cmbd_df['y'] >= cmbd_df[column_name_high]) | (cmbd_df['y'] <= cmbd_df[column_name_low])\n",
    "    \n",
    "        cmbd_df.loc[condition, 'anom_conf'] = level\n",
    "\n",
    "    cmbd_df = cmbd_df[['unique_id','ds','y',mdl_name,'anom_conf','diff','pct_diff']+list(cmbd_df.columns)[4:-3]]\n",
    "    anoms_df = cmbd_df[cmbd_df['anom_conf'] >= anom_level]\n",
    "\n",
    "    return cmbd_df, anoms_df"
   ]
  },
  {
   "cell_type": "code",
   "execution_count": null,
   "metadata": {},
   "outputs": [],
   "source": [
    "#| hide\n",
    "import nbdev; nbdev.nbdev_export()"
   ]
  }
 ],
 "metadata": {
  "kernelspec": {
   "display_name": "python3",
   "language": "python",
   "name": "python3"
  }
 },
 "nbformat": 4,
 "nbformat_minor": 4
}
